{
 "cells": [
  {
   "cell_type": "markdown",
   "metadata": {
    "collapsed": true
   },
   "source": [
    "\n",
    "## Data Initializing"
   ]
  },
  {
   "cell_type": "code",
   "execution_count": 1,
   "metadata": {},
   "outputs": [],
   "source": [
    "import pandas as pd\n",
    "import numpy as np\n",
    "import data_handler as dh\n",
    "import model as md\n",
    "import time\n",
    "import matplotlib.pyplot as plt\n",
    "from matplotlib import rc\n",
    "from multiprocessing import Pool\n",
    "import pickle"
   ]
  },
  {
   "cell_type": "code",
   "execution_count": 2,
   "metadata": {},
   "outputs": [
    {
     "data": {
      "text/plain": [
       "<module 'model' from '/home/aleksey/TransportNet/Stable Dynamic & Beckman/model.py'>"
      ]
     },
     "execution_count": 2,
     "metadata": {},
     "output_type": "execute_result"
    }
   ],
   "source": [
    "import importlib\n",
    "importlib.reload(dh)\n",
    "importlib.reload(md)"
   ]
  },
  {
   "cell_type": "code",
   "execution_count": 3,
   "metadata": {},
   "outputs": [
    {
     "data": {
      "text/plain": [
       "'0.54.1'"
      ]
     },
     "execution_count": 3,
     "metadata": {},
     "output_type": "execute_result"
    }
   ],
   "source": [
    "import numba\n",
    "numba.__version__"
   ]
  },
  {
   "cell_type": "code",
   "execution_count": 4,
   "metadata": {},
   "outputs": [
    {
     "name": "stdout",
     "output_type": "stream",
     "text": [
      "/home/aleksey/TransportNet/env/bin/python\n",
      "3.9.2 (default, Feb 28 2021, 17:03:44) \n",
      "[GCC 10.2.1 20210110]\n",
      "sys.version_info(major=3, minor=9, micro=2, releaselevel='final', serial=0)\n",
      "python 3.9.2\n",
      "numpy 1.19.5\n",
      "pandas 1.3.4\n",
      "graph_tool 2.43 (commit 9d41331e, Wed Jul 7 15:32:52 2021 +0200)\n"
     ]
    }
   ],
   "source": [
    "import sys\n",
    "print(sys.executable)\n",
    "print(sys.version)\n",
    "print(sys.version_info)\n",
    "from platform import python_version\n",
    "print('python', python_version())\n",
    "print('numpy', np.__version__)\n",
    "print('pandas', pd.__version__)\n",
    "import graph_tool\n",
    "print('graph_tool', graph_tool.__version__)"
   ]
  },
  {
   "cell_type": "markdown",
   "metadata": {},
   "source": [
    "# Beckmann model\n",
    "\n",
    "parameter $\\mu = 0.25$"
   ]
  },
  {
   "cell_type": "code",
   "execution_count": 5,
   "metadata": {},
   "outputs": [],
   "source": [
    "beckmann_save = 'beckmann_results/'"
   ]
  },
  {
   "cell_type": "code",
   "execution_count": 6,
   "metadata": {},
   "outputs": [
    {
     "data": {
      "text/html": [
       "<div>\n",
       "<style scoped>\n",
       "    .dataframe tbody tr th:only-of-type {\n",
       "        vertical-align: middle;\n",
       "    }\n",
       "\n",
       "    .dataframe tbody tr th {\n",
       "        vertical-align: top;\n",
       "    }\n",
       "\n",
       "    .dataframe thead th {\n",
       "        text-align: right;\n",
       "    }\n",
       "</style>\n",
       "<table border=\"1\" class=\"dataframe\">\n",
       "  <thead>\n",
       "    <tr style=\"text-align: right;\">\n",
       "      <th></th>\n",
       "      <th>init_node</th>\n",
       "      <th>init_node_thru</th>\n",
       "      <th>term_node</th>\n",
       "      <th>term_node_thru</th>\n",
       "      <th>capacity</th>\n",
       "      <th>free_flow_time</th>\n",
       "    </tr>\n",
       "  </thead>\n",
       "  <tbody>\n",
       "    <tr>\n",
       "      <th>0</th>\n",
       "      <td>1</td>\n",
       "      <td>False</td>\n",
       "      <td>117</td>\n",
       "      <td>True</td>\n",
       "      <td>9000.0</td>\n",
       "      <td>1.090458</td>\n",
       "    </tr>\n",
       "    <tr>\n",
       "      <th>1</th>\n",
       "      <td>2</td>\n",
       "      <td>False</td>\n",
       "      <td>87</td>\n",
       "      <td>True</td>\n",
       "      <td>9000.0</td>\n",
       "      <td>1.090458</td>\n",
       "    </tr>\n",
       "    <tr>\n",
       "      <th>2</th>\n",
       "      <td>3</td>\n",
       "      <td>False</td>\n",
       "      <td>74</td>\n",
       "      <td>True</td>\n",
       "      <td>9000.0</td>\n",
       "      <td>1.090458</td>\n",
       "    </tr>\n",
       "    <tr>\n",
       "      <th>3</th>\n",
       "      <td>4</td>\n",
       "      <td>False</td>\n",
       "      <td>233</td>\n",
       "      <td>True</td>\n",
       "      <td>9000.0</td>\n",
       "      <td>1.090458</td>\n",
       "    </tr>\n",
       "    <tr>\n",
       "      <th>4</th>\n",
       "      <td>5</td>\n",
       "      <td>False</td>\n",
       "      <td>165</td>\n",
       "      <td>True</td>\n",
       "      <td>9000.0</td>\n",
       "      <td>1.090458</td>\n",
       "    </tr>\n",
       "  </tbody>\n",
       "</table>\n",
       "</div>"
      ],
      "text/plain": [
       "   init_node  init_node_thru  term_node  term_node_thru  capacity  \\\n",
       "0          1           False        117            True    9000.0   \n",
       "1          2           False         87            True    9000.0   \n",
       "2          3           False         74            True    9000.0   \n",
       "3          4           False        233            True    9000.0   \n",
       "4          5           False        165            True    9000.0   \n",
       "\n",
       "   free_flow_time  \n",
       "0        1.090458  \n",
       "1        1.090458  \n",
       "2        1.090458  \n",
       "3        1.090458  \n",
       "4        1.090458  "
      ]
     },
     "execution_count": 6,
     "metadata": {},
     "output_type": "execute_result"
    }
   ],
   "source": [
    "net_name = 'Anaheim_net.tntp'\n",
    "trips_name = 'Anaheim_trips.tntp'\n",
    "\n",
    "handler = dh.DataHandler()\n",
    "graph_data = handler.GetGraphData(net_name, columns = ['init_node', 'term_node', 'capacity', 'free_flow_time'])\n",
    "graph_correspondences, total_od_flow = handler.GetGraphCorrespondences(trips_name)\n",
    "\n",
    "model = md.Model(graph_data, graph_correspondences, \n",
    "                    total_od_flow, mu = 0.25, rho = 0.15)\n",
    "\n",
    "graph_data['graph_table'].head()"
   ]
  },
  {
   "cell_type": "code",
   "execution_count": 57,
   "metadata": {},
   "outputs": [],
   "source": [
    "epsilons = np.logspace(3,1.5,7)\n",
    "epsilons\n",
    "results = {}\n"
   ]
  },
  {
   "cell_type": "code",
   "execution_count": 58,
   "metadata": {},
   "outputs": [],
   "source": [
    "def compute(kwargs):\n",
    "    tic = time.time()\n",
    "    result = model.find_equilibrium(**kwargs)\n",
    "    toc = time.time()\n",
    "    return {'args': kwargs, 'result': result, 'time': toc - tic}\n",
    "\n",
    "def find_eq_for_list(arg_list):\n",
    "    pool = Pool(processes=len(arg_list))\n",
    "    return pool.map(compute, arg_list)\n",
    "\n",
    " "
   ]
  },
  {
   "cell_type": "code",
   "execution_count": 59,
   "metadata": {},
   "outputs": [
    {
     "name": "stdout",
     "output_type": "stream",
     "text": [
      "Oracles created...\n",
      "Frank-Wolfe method...\n",
      "Oracles created...Oracles created...\n",
      "Frank-Wolfe method...\n",
      "\n",
      "Frank-Wolfe method...\n",
      "Oracles created...\n",
      "Frank-Wolfe method...\n",
      "Oracles created...\n",
      "Frank-Wolfe method...\n",
      "Oracles created...\n",
      "Oracles created...Frank-Wolfe method...\n",
      "\n",
      "Frank-Wolfe method...\n",
      "Oracles created...\n",
      "Oracles created...Frank-Wolfe method...Oracles created...\n",
      "\n",
      "\n",
      "Frank-Wolfe method...\n",
      "Frank-Wolfe method...\n"
     ]
    }
   ],
   "source": [
    "arg_list = []\n",
    "for i in range(10):\n",
    "    kwargs = {}\n",
    "    max_iter = 2000 * (i + 1)\n",
    "    kwargs['solver_kwargs'] = {'max_iter' : max_iter, 'stop_crit': 'max_iter',\n",
    "                 'verbose' : False, 'verbose_step': 2000, 'save_history' : True}\n",
    "    kwargs['solver_name'] = 'fwm'\n",
    "    arg_list.append(kwargs)\n",
    "local_results = find_eq_for_list(arg_list)\n"
   ]
  },
  {
   "cell_type": "code",
   "execution_count": 60,
   "metadata": {},
   "outputs": [],
   "source": [
    "for args, res in zip(arg_list, local_results):\n",
    "    max_iter = args['solver_kwargs']['max_iter']\n",
    "    results[args['solver_name'] + str(max_iter)] = res"
   ]
  },
  {
   "cell_type": "code",
   "execution_count": 61,
   "metadata": {},
   "outputs": [
    {
     "name": "stdout",
     "output_type": "stream",
     "text": [
      "Composite optimization...\n",
      "Oracles created...\n",
      "Universal similar triangles method...\n",
      "Composite optimization...\n",
      "Oracles created...\n",
      "Universal similar triangles method...\n",
      "Composite optimization...\n",
      "Oracles created...\n",
      "Universal similar triangles method...\n",
      "Composite optimization...\n",
      "Oracles created...\n",
      "Universal similar triangles method...\n",
      "Composite optimization...Composite optimization...\n",
      "\n",
      "Oracles created...Oracles created...\n",
      "\n",
      "Universal similar triangles method...Universal similar triangles method...\n",
      "\n",
      "Composite optimization...\n",
      "Oracles created...\n",
      "Universal similar triangles method...\n",
      "Composite optimization...\n",
      "Oracles created...\n",
      "Universal similar triangles method...\n",
      "Composite optimization...\n",
      "Oracles created...\n",
      "Universal similar triangles method...\n",
      "Composite optimization...\n",
      "Oracles created...\n",
      "Universal similar triangles method...\n"
     ]
    }
   ],
   "source": [
    "arg_list = []\n",
    "prev_labels = []\n",
    "for i in range(10):\n",
    "    iters_passed = i * 2000\n",
    "    \n",
    "    max_iter = (20000 - iters_passed)\n",
    "    kwargs = {}\n",
    "    kwargs['solver_kwargs'] = {'max_iter' : max_iter, 'stop_crit': 'max_iter',\n",
    "                 'verbose' : False, 'verbose_step': 2000, 'save_history' : True}\n",
    "    kwargs['solver_name'] = 'ustm'\n",
    "    kwargs['composite'] = True\n",
    "    if iters_passed > 0:\n",
    "        prev_label = 'fwm' + str(iters_passed) if iters_passed > 0 else None\n",
    "        prev_res = results[prev_label]\n",
    "        prev_labels.append(prev_label)\n",
    "        kwargs['t_start'] = prev_res['result']['times']\n",
    "    else:\n",
    "        prev_labels.append(None)\n",
    "    arg_list.append(kwargs)\n",
    "local_results = find_eq_for_list(arg_list)\n",
    "\n",
    "for args, res, prev_label in zip(arg_list, local_results, prev_labels):\n",
    "    max_iter = args['solver_kwargs']['max_iter']\n",
    "    if prev_label is not None:\n",
    "        res['prev_res'] = prev_label\n",
    "        results[prev_label + '+' + args['solver_name'] + str(max_iter)] = res\n",
    "    else:\n",
    "        results[args['solver_name'] + str(max_iter)] = res"
   ]
  },
  {
   "cell_type": "code",
   "execution_count": 62,
   "metadata": {},
   "outputs": [
    {
     "name": "stdout",
     "output_type": "stream",
     "text": [
      "dict_keys(['fwm2000', 'fwm4000', 'fwm6000', 'fwm8000', 'fwm10000', 'fwm12000', 'fwm14000', 'fwm16000', 'fwm18000', 'fwm20000', 'ustm20000', 'fwm2000+ustm18000', 'fwm4000+ustm16000', 'fwm6000+ustm14000', 'fwm8000+ustm12000', 'fwm10000+ustm10000', 'fwm12000+ustm8000', 'fwm14000+ustm6000', 'fwm16000+ustm4000', 'fwm18000+ustm2000'])\n"
     ]
    }
   ],
   "source": [
    "print(results.keys())"
   ]
  },
  {
   "cell_type": "code",
   "execution_count": 63,
   "metadata": {},
   "outputs": [
    {
     "name": "stdout",
     "output_type": "stream",
     "text": [
      "[1121.3744571208954, 1035.0158138275146, 936.4430425167084, 819.9250628948212, 712.0786974430084, 593.2560458183289, 472.89348435401917, 351.7973268032074, 245.95429849624634, 128.7423129081726]\n"
     ]
    }
   ],
   "source": [
    "print([result['time'] for result in local_results])"
   ]
  },
  {
   "cell_type": "code",
   "execution_count": 64,
   "metadata": {},
   "outputs": [
    {
     "name": "stdout",
     "output_type": "stream",
     "text": [
      "fwm2000 0.5884025134146214\n",
      "fwm4000 0.2896952775772661\n",
      "fwm6000 0.1920236952137202\n",
      "fwm8000 0.143653568578884\n",
      "fwm10000 0.11463516601361334\n",
      "fwm12000 0.09547636448405683\n",
      "fwm14000 0.08173747733235359\n",
      "fwm16000 0.0714496064465493\n",
      "fwm18000 0.06350704631768167\n",
      "fwm20000 0.05713712074793875\n",
      "ustm20000 0.954550716560334\n",
      "fwm2000+ustm18000 0.36511895316652954\n",
      "fwm4000+ustm16000 0.14991394756361842\n",
      "fwm6000+ustm14000 0.09082899731583893\n",
      "fwm8000+ustm12000 0.09808337455615401\n",
      "fwm10000+ustm10000 0.09299807134084404\n",
      "fwm12000+ustm8000 0.10088568599894643\n",
      "fwm14000+ustm6000 0.10259202471934259\n",
      "fwm16000+ustm4000 0.1662428139243275\n",
      "fwm18000+ustm2000 0.3872888626065105\n"
     ]
    }
   ],
   "source": [
    "for label, res in results.items():\n",
    "    print(label, res['result']['history']['dual_gap'][-1])\n"
   ]
  },
  {
   "cell_type": "code",
   "execution_count": 65,
   "metadata": {},
   "outputs": [
    {
     "name": "stdout",
     "output_type": "stream",
     "text": [
      "Composite optimization...\n",
      "Composite optimization...Oracles created...\n",
      "Universal similar triangles method...\n",
      "\n",
      "Oracles created...\n",
      "Universal similar triangles method...\n",
      "Composite optimization...\n",
      "Oracles created...\n",
      "Universal similar triangles method...\n",
      "Composite optimization...\n",
      "Oracles created...\n",
      "Universal similar triangles method...\n",
      "Composite optimization...\n",
      "Oracles created...\n",
      "Universal similar triangles method...\n",
      "Composite optimization...Composite optimization...\n",
      "Oracles created...\n",
      "Oracles created...\n",
      "\n",
      "Universal similar triangles method...\n",
      "Universal similar triangles method...Composite optimization...\n",
      "Oracles created...\n",
      "Universal similar triangles method...\n",
      "\n",
      "Composite optimization...\n",
      "Oracles created...\n",
      "Universal similar triangles method...\n",
      "Composite optimization...\n",
      "Oracles created...\n",
      "Universal similar triangles method...\n"
     ]
    }
   ],
   "source": [
    "arg_list = []\n",
    "for i in range(10):\n",
    "    kwargs = {}\n",
    "    max_iter = 2000 * (i + 1)\n",
    "    kwargs['solver_kwargs'] = {'max_iter' : max_iter, 'stop_crit': 'max_iter',\n",
    "                 'verbose' : False, 'verbose_step': 2000, 'save_history' : True}\n",
    "    kwargs['solver_name'] = 'ustm'\n",
    "    kwargs['composite'] = True\n",
    "    arg_list.append(kwargs)\n",
    "local_results = find_eq_for_list(arg_list)\n",
    "for args, res in zip(arg_list, local_results):\n",
    "    max_iter = args['solver_kwargs']['max_iter']\n",
    "    results[args['solver_name'] + str(max_iter)] = res"
   ]
  },
  {
   "cell_type": "code",
   "execution_count": 66,
   "metadata": {},
   "outputs": [
    {
     "name": "stdout",
     "output_type": "stream",
     "text": [
      "Non-composite optimization...\n",
      "Oracles created...\n",
      "Weighted dual averages method...\n",
      "Non-composite optimization...\n",
      "Oracles created...\n",
      "Weighted dual averages method...\n",
      "Non-composite optimization...\n",
      "Oracles created...\n",
      "Weighted dual averages method...\n",
      "Non-composite optimization...\n",
      "Oracles created...\n",
      "Weighted dual averages method...\n",
      "Non-composite optimization...\n",
      "Oracles created...\n",
      "Weighted dual averages method...\n",
      "Non-composite optimization...\n",
      "Oracles created...\n",
      "Weighted dual averages method...\n",
      "Non-composite optimization...Non-composite optimization...\n",
      "\n",
      "Oracles created...Oracles created...\n",
      "\n",
      "Weighted dual averages method...Weighted dual averages method...\n",
      "\n",
      "Non-composite optimization...Non-composite optimization...\n",
      "\n",
      "Oracles created...Oracles created...\n",
      "Weighted dual averages method...\n",
      "\n",
      "Weighted dual averages method...\n"
     ]
    }
   ],
   "source": [
    "arg_list = []\n",
    "prev_labels = []\n",
    "for i in range(10):\n",
    "    iters_passed = i * 2000\n",
    "    \n",
    "    max_iter = (20000 - iters_passed)\n",
    "    kwargs = {}\n",
    "    kwargs['solver_kwargs'] = {'max_iter' : max_iter, 'stop_crit': 'max_iter',\n",
    "                 'verbose' : False, 'verbose_step': 2000, 'save_history' : True}\n",
    "    kwargs['solver_name'] = 'wda'\n",
    "    kwargs['composite'] = False\n",
    "    if iters_passed > 0:\n",
    "        prev_label = 'ustm' + str(iters_passed) if iters_passed > 0 else None\n",
    "        prev_res = results[prev_label]\n",
    "        prev_labels.append(prev_label)\n",
    "        kwargs['t_start'] = prev_res['result']['times']\n",
    "    else:\n",
    "        prev_labels.append(None)\n",
    "    arg_list.append(kwargs)\n",
    "local_results = find_eq_for_list(arg_list)\n",
    "\n",
    "for args, res, prev_label in zip(arg_list, local_results, prev_labels):\n",
    "    max_iter = args['solver_kwargs']['max_iter']\n",
    "    if prev_label is not None:\n",
    "        res['prev_res'] = prev_label\n",
    "        results[prev_label + '+' + args['solver_name'] + str(max_iter)] = res\n",
    "    else:\n",
    "        results[args['solver_name'] + str(max_iter)] = res"
   ]
  },
  {
   "cell_type": "code",
   "execution_count": 67,
   "metadata": {},
   "outputs": [
    {
     "name": "stdout",
     "output_type": "stream",
     "text": [
      "fwm2000 0.5884025134146214\n",
      "fwm4000 0.2896952775772661\n",
      "fwm6000 0.1920236952137202\n",
      "fwm8000 0.143653568578884\n",
      "fwm10000 0.11463516601361334\n",
      "fwm12000 0.09547636448405683\n",
      "fwm14000 0.08173747733235359\n",
      "fwm16000 0.0714496064465493\n",
      "fwm18000 0.06350704631768167\n",
      "fwm20000 0.05713712074793875\n",
      "ustm20000 0.954550716560334\n",
      "fwm2000+ustm18000 0.36511895316652954\n",
      "fwm4000+ustm16000 0.14991394756361842\n",
      "fwm6000+ustm14000 0.09082899731583893\n",
      "fwm8000+ustm12000 0.09808337455615401\n",
      "fwm10000+ustm10000 0.09299807134084404\n",
      "fwm12000+ustm8000 0.10088568599894643\n",
      "fwm14000+ustm6000 0.10259202471934259\n",
      "fwm16000+ustm4000 0.1662428139243275\n",
      "fwm18000+ustm2000 0.3872888626065105\n",
      "ustm2000 508.07540621212684\n",
      "ustm4000 244.59702187823132\n",
      "ustm6000 113.88388580433093\n",
      "ustm8000 55.32533074519597\n",
      "ustm10000 25.139251557644457\n",
      "ustm12000 12.26837044605054\n",
      "ustm14000 6.231245838338509\n",
      "ustm16000 3.1730672670528293\n",
      "ustm18000 1.7369875865988433\n",
      "wda20000 1350.342186356429\n",
      "ustm2000+wda18000 1548.3373840895947\n",
      "ustm4000+wda16000 1714.0795524155255\n",
      "ustm6000+wda14000 1910.6449707262218\n",
      "ustm8000+wda12000 2145.9450031414162\n",
      "ustm10000+wda10000 2269.791554440744\n",
      "ustm12000+wda8000 2951.4496408901177\n",
      "ustm14000+wda6000 3715.715583080193\n",
      "ustm16000+wda4000 5521.718724265229\n",
      "ustm18000+wda2000 8373.615850198781\n"
     ]
    }
   ],
   "source": []
  },
  {
   "cell_type": "code",
   "execution_count": 68,
   "metadata": {},
   "outputs": [
    {
     "name": "stdout",
     "output_type": "stream",
     "text": [
      "Non-composite optimization...\n",
      "Oracles created...\n",
      "Weighted dual averages method...\n",
      "Non-composite optimization...\n",
      "Non-composite optimization...\n",
      "Oracles created...\n",
      "Oracles created...Weighted dual averages method...\n",
      "\n",
      "Weighted dual averages method...\n",
      "Non-composite optimization...\n",
      "Non-composite optimization...Oracles created...\n",
      "Weighted dual averages method...\n",
      "\n",
      "Oracles created...\n",
      "Weighted dual averages method...\n",
      "Non-composite optimization...\n",
      "Oracles created...\n",
      "Weighted dual averages method...\n",
      "Non-composite optimization...\n",
      "Oracles created...\n",
      "Weighted dual averages method...\n",
      "Non-composite optimization...Non-composite optimization...\n",
      "Oracles created...\n",
      "Oracles created...\n",
      "\n",
      "Weighted dual averages method...\n",
      "Weighted dual averages method...\n",
      "Non-composite optimization...\n",
      "Oracles created...\n",
      "Weighted dual averages method...\n"
     ]
    }
   ],
   "source": [
    "arg_list = []\n",
    "prev_labels = []\n",
    "for i in range(10):\n",
    "    iters_passed = i * 2000\n",
    "    \n",
    "    max_iter = (20000 - iters_passed)\n",
    "    kwargs = {}\n",
    "    kwargs['solver_kwargs'] = {'max_iter' : max_iter, 'stop_crit': 'max_iter',\n",
    "                 'verbose' : False, 'verbose_step': 2000, 'save_history' : True}\n",
    "    kwargs['solver_name'] = 'wda'\n",
    "    kwargs['composite'] = False\n",
    "    if iters_passed > 0:\n",
    "        prev_label = 'fwm' + str(iters_passed) if iters_passed > 0 else None\n",
    "        prev_res = results[prev_label]\n",
    "        prev_labels.append(prev_label)\n",
    "        kwargs['t_start'] = prev_res['result']['times']\n",
    "    else:\n",
    "        prev_labels.append(None)\n",
    "    arg_list.append(kwargs)\n",
    "local_results = find_eq_for_list(arg_list)\n",
    "\n",
    "for args, res, prev_label in zip(arg_list, local_results, prev_labels):\n",
    "    max_iter = args['solver_kwargs']['max_iter']\n",
    "    if prev_label is not None:\n",
    "        res['prev_res'] = prev_label\n",
    "        results[prev_label + '+' + args['solver_name'] + str(max_iter)] = res\n",
    "    else:\n",
    "        results[args['solver_name'] + str(max_iter)] = res"
   ]
  },
  {
   "cell_type": "code",
   "execution_count": 69,
   "metadata": {},
   "outputs": [
    {
     "name": "stdout",
     "output_type": "stream",
     "text": [
      "fwm2000 0.5884025134146214\n",
      "fwm4000 0.2896952775772661\n",
      "fwm6000 0.1920236952137202\n",
      "fwm8000 0.143653568578884\n",
      "fwm10000 0.11463516601361334\n",
      "fwm12000 0.09547636448405683\n",
      "fwm14000 0.08173747733235359\n",
      "fwm16000 0.0714496064465493\n",
      "fwm18000 0.06350704631768167\n",
      "fwm20000 0.05713712074793875\n",
      "ustm20000 0.954550716560334\n",
      "fwm2000+ustm18000 0.36511895316652954\n",
      "fwm4000+ustm16000 0.14991394756361842\n",
      "fwm6000+ustm14000 0.09082899731583893\n",
      "fwm8000+ustm12000 0.09808337455615401\n",
      "fwm10000+ustm10000 0.09299807134084404\n",
      "fwm12000+ustm8000 0.10088568599894643\n",
      "fwm14000+ustm6000 0.10259202471934259\n",
      "fwm16000+ustm4000 0.1662428139243275\n",
      "fwm18000+ustm2000 0.3872888626065105\n",
      "ustm2000 508.07540621212684\n",
      "ustm4000 244.59702187823132\n",
      "ustm6000 113.88388580433093\n",
      "ustm8000 55.32533074519597\n",
      "ustm10000 25.139251557644457\n",
      "ustm12000 12.26837044605054\n",
      "ustm14000 6.231245838338509\n",
      "ustm16000 3.1730672670528293\n",
      "ustm18000 1.7369875865988433\n",
      "wda20000 1350.342186356429\n",
      "ustm2000+wda18000 1548.3373840895947\n",
      "ustm4000+wda16000 1714.0795524155255\n",
      "ustm6000+wda14000 1910.6449707262218\n",
      "ustm8000+wda12000 2145.9450031414162\n",
      "ustm10000+wda10000 2269.791554440744\n",
      "ustm12000+wda8000 2951.4496408901177\n",
      "ustm14000+wda6000 3715.715583080193\n",
      "ustm16000+wda4000 5521.718724265229\n",
      "ustm18000+wda2000 8373.615850198781\n",
      "fwm2000+wda18000 1597.8231323296204\n",
      "fwm4000+wda16000 1738.5319868943188\n",
      "fwm6000+wda14000 1921.9081483981572\n",
      "fwm8000+wda12000 2152.4375723781995\n",
      "fwm10000+wda10000 2481.7659917743877\n",
      "fwm12000+wda8000 2985.825988789089\n",
      "fwm14000+wda6000 3809.4222498615272\n",
      "fwm16000+wda4000 5597.078132333234\n",
      "fwm18000+wda2000 11464.763984995661\n"
     ]
    }
   ],
   "source": [
    "for label, res in results.items():\n",
    "    print(label, res['result']['history']['dual_gap'][-1])"
   ]
  },
  {
   "cell_type": "code",
   "execution_count": 70,
   "metadata": {},
   "outputs": [
    {
     "name": "stdout",
     "output_type": "stream",
     "text": [
      "Oracles created...\n",
      "Frank-Wolfe method...Oracles created...\n",
      "\n",
      "Oracles created...\n",
      "Frank-Wolfe method...Frank-Wolfe method...\n",
      "\n",
      "Oracles created...Oracles created...\n",
      "Frank-Wolfe method...\n",
      "\n",
      "Frank-Wolfe method...Oracles created...\n",
      "\n",
      "Frank-Wolfe method...\n",
      "Oracles created...Oracles created...\n",
      "\n",
      "Frank-Wolfe method...Frank-Wolfe method...\n",
      "\n",
      "Oracles created...Oracles created...\n",
      "Frank-Wolfe method...\n",
      "\n",
      "Frank-Wolfe method...\n"
     ]
    }
   ],
   "source": [
    "arg_list = []\n",
    "prev_labels = []\n",
    "for i in range(10):\n",
    "    iters_passed = i * 2000\n",
    "    \n",
    "    max_iter = (20000 - iters_passed)\n",
    "    kwargs = {}\n",
    "    kwargs['solver_kwargs'] = {'max_iter' : max_iter, 'stop_crit': 'max_iter',\n",
    "                 'verbose' : False, 'verbose_step': 2000, 'save_history' : True}\n",
    "    kwargs['solver_name'] = 'fwm'\n",
    "    if iters_passed > 0:\n",
    "        prev_label = 'ustm' + str(iters_passed) if iters_passed > 0 else None\n",
    "        prev_res = results[prev_label]\n",
    "        prev_labels.append(prev_label)\n",
    "        kwargs['t_start'] = prev_res['result']['times']\n",
    "    else:\n",
    "        prev_labels.append(None)\n",
    "    arg_list.append(kwargs)\n",
    "local_results = find_eq_for_list(arg_list)\n",
    "\n",
    "for args, res, prev_label in zip(arg_list, local_results, prev_labels):\n",
    "    max_iter = args['solver_kwargs']['max_iter']\n",
    "    if prev_label is not None:\n",
    "        res['prev_res'] = prev_label\n",
    "        results[prev_label + '+' + args['solver_name'] + str(max_iter)] = res\n",
    "    else:\n",
    "        results[args['solver_name'] + str(max_iter)] = res"
   ]
  },
  {
   "cell_type": "code",
   "execution_count": 71,
   "metadata": {},
   "outputs": [
    {
     "name": "stdout",
     "output_type": "stream",
     "text": [
      "fwm2000 0.5884025134146214\n",
      "fwm4000 0.2896952775772661\n",
      "fwm6000 0.1920236952137202\n",
      "fwm8000 0.143653568578884\n",
      "fwm10000 0.11463516601361334\n",
      "fwm12000 0.09547636448405683\n",
      "fwm14000 0.08173747733235359\n",
      "fwm16000 0.0714496064465493\n",
      "fwm18000 0.06350704631768167\n",
      "fwm20000 0.05713712074793875\n",
      "ustm20000 0.954550716560334\n",
      "fwm2000+ustm18000 0.36511895316652954\n",
      "fwm4000+ustm16000 0.14991394756361842\n",
      "fwm6000+ustm14000 0.09082899731583893\n",
      "fwm8000+ustm12000 0.09808337455615401\n",
      "fwm10000+ustm10000 0.09299807134084404\n",
      "fwm12000+ustm8000 0.10088568599894643\n",
      "fwm14000+ustm6000 0.10259202471934259\n",
      "fwm16000+ustm4000 0.1662428139243275\n",
      "fwm18000+ustm2000 0.3872888626065105\n",
      "ustm2000 508.07540621212684\n",
      "ustm4000 244.59702187823132\n",
      "ustm6000 113.88388580433093\n",
      "ustm8000 55.32533074519597\n",
      "ustm10000 25.139251557644457\n",
      "ustm12000 12.26837044605054\n",
      "ustm14000 6.231245838338509\n",
      "ustm16000 3.1730672670528293\n",
      "ustm18000 1.7369875865988433\n",
      "wda20000 1350.342186356429\n",
      "ustm2000+wda18000 1548.3373840895947\n",
      "ustm4000+wda16000 1714.0795524155255\n",
      "ustm6000+wda14000 1910.6449707262218\n",
      "ustm8000+wda12000 2145.9450031414162\n",
      "ustm10000+wda10000 2269.791554440744\n",
      "ustm12000+wda8000 2951.4496408901177\n",
      "ustm14000+wda6000 3715.715583080193\n",
      "ustm16000+wda4000 5521.718724265229\n",
      "ustm18000+wda2000 8373.615850198781\n",
      "fwm2000+wda18000 1597.8231323296204\n",
      "fwm4000+wda16000 1738.5319868943188\n",
      "fwm6000+wda14000 1921.9081483981572\n",
      "fwm8000+wda12000 2152.4375723781995\n",
      "fwm10000+wda10000 2481.7659917743877\n",
      "fwm12000+wda8000 2985.825988789089\n",
      "fwm14000+wda6000 3809.4222498615272\n",
      "fwm16000+wda4000 5597.078132333234\n",
      "fwm18000+wda2000 11464.763984995661\n",
      "ustm2000+fwm18000 0.06336080888286233\n",
      "ustm4000+fwm16000 0.07139453152194619\n",
      "ustm6000+fwm14000 0.08152854489162564\n",
      "ustm8000+fwm12000 0.09508570516481996\n",
      "ustm10000+fwm10000 0.11437987675890326\n",
      "ustm12000+fwm8000 0.14222650788724422\n",
      "ustm14000+fwm6000 0.19096457213163376\n",
      "ustm16000+fwm4000 0.2854243840556592\n",
      "ustm18000+fwm2000 0.5779323102906346\n"
     ]
    }
   ],
   "source": [
    "for label, res in results.items():\n",
    "    print(label, res['result']['history']['dual_gap'][-1])"
   ]
  },
  {
   "cell_type": "code",
   "execution_count": 72,
   "metadata": {},
   "outputs": [],
   "source": [
    "with open('anaheim_result_new_start_beckmann.pickle', 'wb') as f:\n",
    "    pickle.dump(results, f)"
   ]
  },
  {
   "cell_type": "code",
   "execution_count": 73,
   "metadata": {},
   "outputs": [],
   "source": [
    "with open('anaheim_result_new_start_beckmann.pickle', 'rb') as f:\n",
    "        loaded_results = pickle.load(f)\n",
    " "
   ]
  },
  {
   "cell_type": "code",
   "execution_count": null,
   "metadata": {},
   "outputs": [],
   "source": [
    "print(loaded_results)"
   ]
  },
  {
   "cell_type": "code",
   "execution_count": null,
   "metadata": {},
   "outputs": [],
   "source": []
  }
 ],
 "metadata": {
  "hide_input": false,
  "kernelspec": {
   "display_name": "Python 3",
   "language": "python",
   "name": "python3"
  },
  "language_info": {
   "codemirror_mode": {
    "name": "ipython",
    "version": 3
   },
   "file_extension": ".py",
   "mimetype": "text/x-python",
   "name": "python",
   "nbconvert_exporter": "python",
   "pygments_lexer": "ipython3",
   "version": "3.9.2"
  },
  "toc": {
   "base_numbering": 1,
   "nav_menu": {},
   "number_sections": true,
   "sideBar": true,
   "skip_h1_title": false,
   "title_cell": "Table of Contents",
   "title_sidebar": "Contents",
   "toc_cell": false,
   "toc_position": {},
   "toc_section_display": true,
   "toc_window_display": false
  }
 },
 "nbformat": 4,
 "nbformat_minor": 2
}
